{
  "nbformat": 4,
  "nbformat_minor": 0,
  "metadata": {
    "colab": {
      "name": "Week_1_Exercise_1_House_Prices_Question",
      "provenance": [],
      "collapsed_sections": []
    },
    "kernelspec": {
      "name": "python3",
      "display_name": "Python 3"
    }
  },
  "cells": [
    {
      "cell_type": "code",
      "metadata": {
        "id": "plECiljDrQf_"
      },
      "source": [
        "import tensorflow as tf\n",
        "import numpy as np\n",
        "from tensorflow import keras"
      ],
      "execution_count": null,
      "outputs": []
    },
    {
      "cell_type": "code",
      "source": [
        "xs = np.array(list(range(500)), dtype = float) \n",
        "ys = np.array([50*x+50 for x in xs], dtype = float)"
      ],
      "metadata": {
        "id": "57xmKN7hjPVW"
      },
      "execution_count": null,
      "outputs": []
    },
    {
      "cell_type": "code",
      "source": [
        "  xs_max = np.max(xs)\n",
        "  ys_max = np.max(ys)\n",
        "  xs = xs / xs_max\n",
        "  ys = ys / ys_max"
      ],
      "metadata": {
        "id": "nAe3VBc0j66a"
      },
      "execution_count": null,
      "outputs": []
    },
    {
      "cell_type": "code",
      "source": [
        ""
      ],
      "metadata": {
        "id": "B_lBvgpNlDIO"
      },
      "execution_count": null,
      "outputs": []
    },
    {
      "cell_type": "code",
      "metadata": {
        "id": "J6HN5BEwrsBQ"
      },
      "source": [
        "def house_model(y_new):\n",
        "  xs = np.array(list(range(500)), dtype = float) \n",
        "  ys = np.array([50*x+50 for x in xs], dtype = float)\n",
        "  xs_max = np.max(xs)\n",
        "  ys_max = np.max(ys)\n",
        "  xs = xs / xs_max\n",
        "  ys = ys / ys_max\n",
        "  model = tf.keras.Sequential(\n",
        "      [tf.keras.layers.Dense(units = 1, input_shape=[1])]\n",
        "  )\n",
        "  model.compile(optimizer = 'sgd', loss=tf.keras.losses.MeanSquaredError())\n",
        "  model.fit(xs, ys, epochs = 50)\n",
        "  return model.predict(np.array(y_new) / xs_max)[0] * ys_max"
      ],
      "execution_count": null,
      "outputs": []
    },
    {
      "cell_type": "code",
      "metadata": {
        "id": "9LQUqmyF4d-f",
        "colab": {
          "base_uri": "https://localhost:8080/"
        },
        "outputId": "f33a634f-0709-4f7b-b0a9-68feb3c5184c"
      },
      "source": [
        "prediction = house_model([7.0])\n",
        "print(prediction)"
      ],
      "execution_count": null,
      "outputs": [
        {
          "output_type": "stream",
          "name": "stdout",
          "text": [
            "Epoch 1/50\n",
            "16/16 [==============================] - 0s 2ms/step - loss: 1.5182\n",
            "Epoch 2/50\n",
            "16/16 [==============================] - 0s 1ms/step - loss: 0.8191\n",
            "Epoch 3/50\n",
            "16/16 [==============================] - 0s 2ms/step - loss: 0.5118\n",
            "Epoch 4/50\n",
            "16/16 [==============================] - 0s 1ms/step - loss: 0.3691\n",
            "Epoch 5/50\n",
            "16/16 [==============================] - 0s 1ms/step - loss: 0.3027\n",
            "Epoch 6/50\n",
            "16/16 [==============================] - 0s 2ms/step - loss: 0.2674\n",
            "Epoch 7/50\n",
            "16/16 [==============================] - 0s 2ms/step - loss: 0.2460\n",
            "Epoch 8/50\n",
            "16/16 [==============================] - 0s 2ms/step - loss: 0.2314\n",
            "Epoch 9/50\n",
            "16/16 [==============================] - 0s 3ms/step - loss: 0.2195\n",
            "Epoch 10/50\n",
            "16/16 [==============================] - 0s 3ms/step - loss: 0.2094\n",
            "Epoch 11/50\n",
            "16/16 [==============================] - 0s 2ms/step - loss: 0.2005\n",
            "Epoch 12/50\n",
            "16/16 [==============================] - 0s 2ms/step - loss: 0.1921\n",
            "Epoch 13/50\n",
            "16/16 [==============================] - 0s 2ms/step - loss: 0.1841\n",
            "Epoch 14/50\n",
            "16/16 [==============================] - 0s 2ms/step - loss: 0.1765\n",
            "Epoch 15/50\n",
            "16/16 [==============================] - 0s 2ms/step - loss: 0.1692\n",
            "Epoch 16/50\n",
            "16/16 [==============================] - 0s 1ms/step - loss: 0.1622\n",
            "Epoch 17/50\n",
            "16/16 [==============================] - 0s 2ms/step - loss: 0.1555\n",
            "Epoch 18/50\n",
            "16/16 [==============================] - 0s 2ms/step - loss: 0.1491\n",
            "Epoch 19/50\n",
            "16/16 [==============================] - 0s 2ms/step - loss: 0.1429\n",
            "Epoch 20/50\n",
            "16/16 [==============================] - 0s 2ms/step - loss: 0.1370\n",
            "Epoch 21/50\n",
            "16/16 [==============================] - 0s 2ms/step - loss: 0.1313\n",
            "Epoch 22/50\n",
            "16/16 [==============================] - 0s 2ms/step - loss: 0.1259\n",
            "Epoch 23/50\n",
            "16/16 [==============================] - 0s 2ms/step - loss: 0.1207\n",
            "Epoch 24/50\n",
            "16/16 [==============================] - 0s 2ms/step - loss: 0.1157\n",
            "Epoch 25/50\n",
            "16/16 [==============================] - 0s 2ms/step - loss: 0.1109\n",
            "Epoch 26/50\n",
            "16/16 [==============================] - 0s 2ms/step - loss: 0.1063\n",
            "Epoch 27/50\n",
            "16/16 [==============================] - 0s 3ms/step - loss: 0.1020\n",
            "Epoch 28/50\n",
            "16/16 [==============================] - 0s 2ms/step - loss: 0.0977\n",
            "Epoch 29/50\n",
            "16/16 [==============================] - 0s 1ms/step - loss: 0.0937\n",
            "Epoch 30/50\n",
            "16/16 [==============================] - 0s 1ms/step - loss: 0.0898\n",
            "Epoch 31/50\n",
            "16/16 [==============================] - 0s 2ms/step - loss: 0.0861\n",
            "Epoch 32/50\n",
            "16/16 [==============================] - 0s 2ms/step - loss: 0.0825\n",
            "Epoch 33/50\n",
            "16/16 [==============================] - 0s 2ms/step - loss: 0.0791\n",
            "Epoch 34/50\n",
            "16/16 [==============================] - 0s 1ms/step - loss: 0.0758\n",
            "Epoch 35/50\n",
            "16/16 [==============================] - 0s 2ms/step - loss: 0.0727\n",
            "Epoch 36/50\n",
            "16/16 [==============================] - 0s 2ms/step - loss: 0.0697\n",
            "Epoch 37/50\n",
            "16/16 [==============================] - 0s 2ms/step - loss: 0.0668\n",
            "Epoch 38/50\n",
            "16/16 [==============================] - 0s 2ms/step - loss: 0.0640\n",
            "Epoch 39/50\n",
            "16/16 [==============================] - 0s 2ms/step - loss: 0.0614\n",
            "Epoch 40/50\n",
            "16/16 [==============================] - 0s 1ms/step - loss: 0.0588\n",
            "Epoch 41/50\n",
            "16/16 [==============================] - 0s 2ms/step - loss: 0.0564\n",
            "Epoch 42/50\n",
            "16/16 [==============================] - 0s 1ms/step - loss: 0.0541\n",
            "Epoch 43/50\n",
            "16/16 [==============================] - 0s 2ms/step - loss: 0.0519\n",
            "Epoch 44/50\n",
            "16/16 [==============================] - 0s 2ms/step - loss: 0.0497\n",
            "Epoch 45/50\n",
            "16/16 [==============================] - 0s 1ms/step - loss: 0.0476\n",
            "Epoch 46/50\n",
            "16/16 [==============================] - 0s 1ms/step - loss: 0.0457\n",
            "Epoch 47/50\n",
            "16/16 [==============================] - 0s 1ms/step - loss: 0.0438\n",
            "Epoch 48/50\n",
            "16/16 [==============================] - 0s 1ms/step - loss: 0.0420\n",
            "Epoch 49/50\n",
            "16/16 [==============================] - 0s 2ms/step - loss: 0.0402\n",
            "Epoch 50/50\n",
            "16/16 [==============================] - 0s 2ms/step - loss: 0.0386\n",
            "[9095.0625]\n"
          ]
        }
      ]
    },
    {
      "cell_type": "code",
      "metadata": {
        "id": "TdkFNpCE4aig"
      },
      "source": [
        ""
      ],
      "execution_count": null,
      "outputs": []
    }
  ]
}